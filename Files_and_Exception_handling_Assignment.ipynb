{
  "nbformat": 4,
  "nbformat_minor": 0,
  "metadata": {
    "colab": {
      "provenance": [],
      "authorship_tag": "ABX9TyNizjkbZhDqfE+VF0XCefgU",
      "include_colab_link": true
    },
    "kernelspec": {
      "name": "python3",
      "display_name": "Python 3"
    },
    "language_info": {
      "name": "python"
    }
  },
  "cells": [
    {
      "cell_type": "markdown",
      "metadata": {
        "id": "view-in-github",
        "colab_type": "text"
      },
      "source": [
        "<a href=\"https://colab.research.google.com/github/EsaraHossain/Assignment/blob/main/Files_and_Exception_handling_Assignment.ipynb\" target=\"_parent\"><img src=\"https://colab.research.google.com/assets/colab-badge.svg\" alt=\"Open In Colab\"/></a>"
      ]
    },
    {
      "cell_type": "code",
      "execution_count": 1,
      "metadata": {
        "id": "1NvrNaGH7jYp"
      },
      "outputs": [],
      "source": [
        "#4. Write a Python program using multithreading where one thread adds numbers to a list, and another\n",
        "#thread removes numbers from the list. Implement a mechanism to avoid race conditions using\n",
        "#threading.Lock."
      ]
    },
    {
      "cell_type": "code",
      "source": [
        "import threading\n",
        "import time\n",
        "\n",
        "shared_list = []\n",
        "lock = threading.Lock()\n",
        "\n",
        "def add_numbers():\n",
        "    for i in range(10):\n",
        "        with lock:\n",
        "            shared_list.append(i)\n",
        "            print(f\"Added {i} to the list\")\n",
        "        time.sleep(0.5)\n",
        "\n",
        "def remove_numbers():\n",
        "    while True:\n",
        "        with lock:\n",
        "            if shared_list:\n",
        "                num = shared_list.pop(0)\n",
        "                print(f\"Removed {num} from the list\")\n",
        "                time.sleep(1)\n",
        "            else:\n",
        "                print(\"List is empty, waiting...\")\n",
        "                break\n",
        "\n",
        "\n",
        "add_thread = threading.Thread(target=add_numbers)\n",
        "remove_thread = threading.Thread(target=remove_numbers)\n",
        "\n",
        "\n",
        "add_thread.start()\n",
        "remove_thread.start()\n",
        "\n",
        "\n",
        "add_thread.join()\n",
        "remove_thread.join()\n",
        "\n",
        "print(\"Final state of the list:\", shared_list)\n",
        "\n"
      ],
      "metadata": {
        "colab": {
          "base_uri": "https://localhost:8080/"
        },
        "id": "3Sjpt8vc72Ou",
        "outputId": "1efb4f52-d6c2-43b0-9005-7bfa3901407b"
      },
      "execution_count": 4,
      "outputs": [
        {
          "output_type": "stream",
          "name": "stdout",
          "text": [
            "Added 0 to the list\n",
            "Removed 0 from the list\n",
            "List is empty, waiting...\n",
            "Added 1 to the list\n",
            "Added 2 to the list\n",
            "Added 3 to the list\n",
            "Added 4 to the list\n",
            "Added 5 to the list\n",
            "Added 6 to the list\n",
            "Added 7 to the list\n",
            "Added 8 to the list\n",
            "Added 9 to the list\n",
            "Final state of the list: [1, 2, 3, 4, 5, 6, 7, 8, 9]\n"
          ]
        }
      ]
    },
    {
      "cell_type": "code",
      "source": [
        "#7. Create a program that uses a thread pool to calculate the factorial of numbers from 1 to 10 concurrently.\n",
        "#Use concurrent.futures.ThreadPoolExecutor to manage the threads."
      ],
      "metadata": {
        "id": "A3qhanT675Gm"
      },
      "execution_count": 5,
      "outputs": []
    },
    {
      "cell_type": "code",
      "source": [
        "import concurrent.futures\n",
        "import math\n",
        "\n",
        "def factorial(n):\n",
        "    return math.factorial(n)\n",
        "\n",
        "numbers = list(range(1, 11))\n",
        "\n",
        "def main():\n",
        "\n",
        "    with concurrent.futures.ThreadPoolExecutor(max_workers=5) as executor:\n",
        "\n",
        "        results = list(executor.map(factorial, numbers))\n",
        "\n",
        "    for num, result in zip(numbers, results):\n",
        "        print(f\"Factorial of {num} is {result}\")\n",
        "\n",
        "if __name__ == \"__main__\":\n",
        "    main()\n"
      ],
      "metadata": {
        "colab": {
          "base_uri": "https://localhost:8080/"
        },
        "id": "xGUJvhif8oaD",
        "outputId": "0a1fe88d-bb80-4f31-9f68-79eea54dfcb1"
      },
      "execution_count": 6,
      "outputs": [
        {
          "output_type": "stream",
          "name": "stdout",
          "text": [
            "Factorial of 1 is 1\n",
            "Factorial of 2 is 2\n",
            "Factorial of 3 is 6\n",
            "Factorial of 4 is 24\n",
            "Factorial of 5 is 120\n",
            "Factorial of 6 is 720\n",
            "Factorial of 7 is 5040\n",
            "Factorial of 8 is 40320\n",
            "Factorial of 9 is 362880\n",
            "Factorial of 10 is 3628800\n"
          ]
        }
      ]
    },
    {
      "cell_type": "code",
      "source": [
        "#8. Create a Python program that uses multiprocessing.Pool to compute the square of numbers from 1 to 10 in\n",
        "#parallel. Measure the time taken to perform this computation using a pool of different sizes (e.g., 2, 4, 8\n",
        "#processes)."
      ],
      "metadata": {
        "id": "SCwObUKj8rur"
      },
      "execution_count": 7,
      "outputs": []
    },
    {
      "cell_type": "code",
      "source": [
        "import multiprocessing\n",
        "import time\n",
        "\n",
        "def square(n):\n",
        "    return n * n\n",
        "\n",
        "numbers = list(range(1, 11))\n",
        "\n",
        "def measure_time(pool_size):\n",
        "\n",
        "    start_time = time.time()\n",
        "\n",
        "    with multiprocessing.Pool(processes=pool_size) as pool:\n",
        "\n",
        "        results = pool.map(square, numbers)\n",
        "\n",
        "    end_time = time.time()\n",
        "\n",
        "\n",
        "    print(f\"Pool size {pool_size}:\")\n",
        "    for num, result in zip(numbers, results):\n",
        "        print(f\"Square of {num} is {result}\")\n",
        "\n",
        "    print(f\"Time taken with pool size {pool_size}: {end_time - start_time:.4f} seconds\")\n",
        "    print(\"-\" * 40)\n",
        "\n",
        "def main():\n",
        "\n",
        "    pool_sizes = [2, 4, 8]\n",
        "\n",
        "    for pool_size in pool_sizes:\n",
        "        measure_time(pool_size)\n",
        "\n",
        "if __name__ == \"__main__\":\n",
        "    main()\n"
      ],
      "metadata": {
        "colab": {
          "base_uri": "https://localhost:8080/"
        },
        "id": "fUqnArrX9DFk",
        "outputId": "2d21e55e-0123-4aa0-c53c-7d9834d6c092"
      },
      "execution_count": 8,
      "outputs": [
        {
          "output_type": "stream",
          "name": "stdout",
          "text": [
            "Pool size 2:\n",
            "Square of 1 is 1\n",
            "Square of 2 is 4\n",
            "Square of 3 is 9\n",
            "Square of 4 is 16\n",
            "Square of 5 is 25\n",
            "Square of 6 is 36\n",
            "Square of 7 is 49\n",
            "Square of 8 is 64\n",
            "Square of 9 is 81\n",
            "Square of 10 is 100\n",
            "Time taken with pool size 2: 0.0974 seconds\n",
            "----------------------------------------\n",
            "Pool size 4:\n",
            "Square of 1 is 1\n",
            "Square of 2 is 4\n",
            "Square of 3 is 9\n",
            "Square of 4 is 16\n",
            "Square of 5 is 25\n",
            "Square of 6 is 36\n",
            "Square of 7 is 49\n",
            "Square of 8 is 64\n",
            "Square of 9 is 81\n",
            "Square of 10 is 100\n",
            "Time taken with pool size 4: 0.0783 seconds\n",
            "----------------------------------------\n",
            "Pool size 8:\n",
            "Square of 1 is 1\n",
            "Square of 2 is 4\n",
            "Square of 3 is 9\n",
            "Square of 4 is 16\n",
            "Square of 5 is 25\n",
            "Square of 6 is 36\n",
            "Square of 7 is 49\n",
            "Square of 8 is 64\n",
            "Square of 9 is 81\n",
            "Square of 10 is 100\n",
            "Time taken with pool size 8: 0.1313 seconds\n",
            "----------------------------------------\n"
          ]
        }
      ]
    },
    {
      "cell_type": "code",
      "source": [],
      "metadata": {
        "id": "ATfOoPvH9L6l"
      },
      "execution_count": null,
      "outputs": []
    }
  ]
}