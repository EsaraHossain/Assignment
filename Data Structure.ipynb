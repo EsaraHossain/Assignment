{
 "cells": [
  {
   "cell_type": "code",
   "execution_count": null,
   "id": "9b03c861-a7dd-47a7-acad-08d465c5b587",
   "metadata": {},
   "outputs": [],
   "source": [
    "#Assignment:Data Structure\n",
    "\n",
    "#Q1. Discuss string slicing and provide examples.\n",
    "#Ans:-String Slicing means obtaining a sub-string from the given string by slicing it respectively from start to end."
   ]
  },
  {
   "cell_type": "code",
   "execution_count": 2,
   "id": "903e73e8-0ed5-4271-a735-9c5dc8499f53",
   "metadata": {},
   "outputs": [
    {
     "name": "stdout",
     "output_type": "stream",
     "text": [
      "E\n",
      "s\n",
      "a\n",
      "r\n",
      "a\n"
     ]
    }
   ],
   "source": [
    "name=\"Esara\"  #string slicing\n",
    "print(name[0])\n",
    "print(name[1])\n",
    "print(name[2])\n",
    "print(name[3])\n",
    "print(name[4])"
   ]
  },
  {
   "cell_type": "code",
   "execution_count": null,
   "id": "d786d29b-12e3-44a5-a855-35e0a1d50939",
   "metadata": {},
   "outputs": [],
   "source": [
    "#Q2. Explain the key features of lists in Python.\n",
    "#Ans: - The Key feature of list in python are -\n",
    "#1.Ordered: - Python lists  are ordered, it means that the items have a defined order, and that order will not change.\n",
    "#2.Mutable: -list is changeable, meaning that we can change, add, and remove items in a list after it has #been created.\n",
    "#3.Allow Duplicate: -Since lists are indexed, lists can have items with the same value."
   ]
  },
  {
   "cell_type": "code",
   "execution_count": null,
   "id": "31fb79eb-e39e-4455-95a5-ab031111297d",
   "metadata": {},
   "outputs": [],
   "source": [
    "#Q3. Describe how to access, modify and delete elements in a list with examples"
   ]
  },
  {
   "cell_type": "code",
   "execution_count": 3,
   "id": "f2525ede-aac4-47d9-94db-db5c6da3cded",
   "metadata": {},
   "outputs": [
    {
     "data": {
      "text/plain": [
       "['apple', 'mango', 'cherry', 'banana', 'grapes']"
      ]
     },
     "execution_count": 3,
     "metadata": {},
     "output_type": "execute_result"
    }
   ],
   "source": [
    "fruit_basket=[\"apple\",\"mango\",\"cherry\",\"banana\",\"grapes\"]\n",
    "fruit_basket"
   ]
  },
  {
   "cell_type": "code",
   "execution_count": 5,
   "id": "0a718579-fce4-45ff-b331-9189fd160f8c",
   "metadata": {},
   "outputs": [
    {
     "name": "stdout",
     "output_type": "stream",
     "text": [
      "cherry\n"
     ]
    }
   ],
   "source": [
    "print(fruit_basket[2]) #acess list with help of index number "
   ]
  },
  {
   "cell_type": "code",
   "execution_count": 6,
   "id": "38298a4c-3833-42d9-afaf-7dcc4fd5a309",
   "metadata": {},
   "outputs": [
    {
     "data": {
      "text/plain": [
       "['apple', 'mango', 'cherry', 'banana', 'grapes']"
      ]
     },
     "execution_count": 6,
     "metadata": {},
     "output_type": "execute_result"
    }
   ],
   "source": [
    "#modify list \n",
    "fruit_basket"
   ]
  },
  {
   "cell_type": "code",
   "execution_count": 16,
   "id": "7d3eb731-907d-433d-8c50-d8555770267b",
   "metadata": {},
   "outputs": [],
   "source": [
    "fruit_basket.append(\"orange\") #modify list with the help of append function"
   ]
  },
  {
   "cell_type": "code",
   "execution_count": 17,
   "id": "9e37c319-442a-496b-a7a6-4406d9f20649",
   "metadata": {},
   "outputs": [
    {
     "data": {
      "text/plain": [
       "['apple', 'mango', 'cherry', 'banana', 'grapes', 'orange']"
      ]
     },
     "execution_count": 17,
     "metadata": {},
     "output_type": "execute_result"
    }
   ],
   "source": [
    "fruit_basket"
   ]
  },
  {
   "cell_type": "code",
   "execution_count": 20,
   "id": "a9058699-ed0d-4187-8b01-351e8c9d1a92",
   "metadata": {},
   "outputs": [],
   "source": [
    "fruit_basket.insert(1,\"Guava\") #modify list with the help of insert function"
   ]
  },
  {
   "cell_type": "code",
   "execution_count": 19,
   "id": "358814f2-92c6-44e9-ab69-f9c1552be8c9",
   "metadata": {},
   "outputs": [
    {
     "data": {
      "text/plain": [
       "['apple', 'Guava', 'mango', 'cherry', 'banana', 'grapes', 'orange']"
      ]
     },
     "execution_count": 19,
     "metadata": {},
     "output_type": "execute_result"
    }
   ],
   "source": [
    "fruit_basket"
   ]
  },
  {
   "cell_type": "code",
   "execution_count": 21,
   "id": "bbb72c25-f363-4fc0-b20b-53bb7ad3c6b3",
   "metadata": {},
   "outputs": [],
   "source": [
    "fruit_basket=[\"apple\",\"mango\",\"cherry\",\"banana\",\"grapes\"]\n",
    "basket=[\"egg\",\"bread\",\"butter\",\"jam\"]"
   ]
  },
  {
   "cell_type": "code",
   "execution_count": 24,
   "id": "f06b95ec-b69e-4e20-839f-2ad41486c863",
   "metadata": {},
   "outputs": [],
   "source": [
    "basket.extend(fruit_basket) #modify list with the help of extend function"
   ]
  },
  {
   "cell_type": "code",
   "execution_count": 23,
   "id": "ce00d0b4-6006-444b-bc47-5c79cafd1a1d",
   "metadata": {},
   "outputs": [
    {
     "data": {
      "text/plain": [
       "['egg',\n",
       " 'bread',\n",
       " 'butter',\n",
       " 'jam',\n",
       " 'apple',\n",
       " 'mango',\n",
       " 'cherry',\n",
       " 'banana',\n",
       " 'grapes']"
      ]
     },
     "execution_count": 23,
     "metadata": {},
     "output_type": "execute_result"
    }
   ],
   "source": [
    "basket"
   ]
  },
  {
   "cell_type": "code",
   "execution_count": 26,
   "id": "660c7195-ba87-4ec6-b139-62374f538711",
   "metadata": {},
   "outputs": [
    {
     "name": "stdout",
     "output_type": "stream",
     "text": [
      "['apple', 'mango', 'cherry', 'banana', 'grapes']\n",
      "['egg', 'bread', 'butter', 'jam']\n"
     ]
    }
   ],
   "source": [
    "fruit_basket=[\"apple\",\"mango\",\"cherry\",\"banana\",\"grapes\"]\n",
    "basket=[\"egg\",\"bread\",\"butter\",\"jam\"]\n",
    "print(fruit_basket)\n",
    "print(basket)"
   ]
  },
  {
   "cell_type": "code",
   "execution_count": 30,
   "id": "fb2da298-e40d-4c8c-9dbd-ac786d799285",
   "metadata": {},
   "outputs": [
    {
     "data": {
      "text/plain": [
       "['apple',\n",
       " 'mango',\n",
       " 'cherry',\n",
       " 'banana',\n",
       " 'grapes',\n",
       " 'egg',\n",
       " 'bread',\n",
       " 'butter',\n",
       " 'jam']"
      ]
     },
     "execution_count": 30,
     "metadata": {},
     "output_type": "execute_result"
    }
   ],
   "source": [
    "fruit_basket+basket #modify list using concatenation"
   ]
  },
  {
   "cell_type": "code",
   "execution_count": 31,
   "id": "0da62b71-f203-459b-98f9-b154f5f34252",
   "metadata": {},
   "outputs": [
    {
     "data": {
      "text/plain": [
       "['apple', 'mango', 'cherry', 'banana', 'grapes']"
      ]
     },
     "execution_count": 31,
     "metadata": {},
     "output_type": "execute_result"
    }
   ],
   "source": [
    "#delete list \n",
    "fruit_basket"
   ]
  },
  {
   "cell_type": "code",
   "execution_count": 34,
   "id": "d829b69d-d2d3-4582-9ad8-b6d64fb6b26f",
   "metadata": {},
   "outputs": [
    {
     "ename": "NameError",
     "evalue": "name 'fruit_basket' is not defined",
     "output_type": "error",
     "traceback": [
      "\u001b[0;31m---------------------------------------------------------------------------\u001b[0m",
      "\u001b[0;31mNameError\u001b[0m                                 Traceback (most recent call last)",
      "Cell \u001b[0;32mIn[34], line 1\u001b[0m\n\u001b[0;32m----> 1\u001b[0m \u001b[38;5;28;01mdel\u001b[39;00m fruit_basket   \u001b[38;5;66;03m#del will delete the list along with the variable\u001b[39;00m\n",
      "\u001b[0;31mNameError\u001b[0m: name 'fruit_basket' is not defined"
     ]
    }
   ],
   "source": [
    "del fruit_basket\n",
    "#del will delete the list along with the variable"
   ]
  },
  {
   "cell_type": "code",
   "execution_count": 35,
   "id": "a51a66a5-e04b-47c9-b7cd-cd7a020e13c7",
   "metadata": {},
   "outputs": [
    {
     "data": {
      "text/plain": [
       "['egg', 'bread', 'butter', 'jam']"
      ]
     },
     "execution_count": 35,
     "metadata": {},
     "output_type": "execute_result"
    }
   ],
   "source": [
    "basket"
   ]
  },
  {
   "cell_type": "code",
   "execution_count": 38,
   "id": "5a011db0-d835-4b86-871d-0076142264c1",
   "metadata": {},
   "outputs": [],
   "source": [
    "basket.clear()  #clear function will clear the list but the variable is not deleted"
   ]
  },
  {
   "cell_type": "code",
   "execution_count": 37,
   "id": "eb3388b0-7725-407b-aa97-b8a16621dd8e",
   "metadata": {},
   "outputs": [
    {
     "data": {
      "text/plain": [
       "[]"
      ]
     },
     "execution_count": 37,
     "metadata": {},
     "output_type": "execute_result"
    }
   ],
   "source": [
    "basket"
   ]
  },
  {
   "cell_type": "code",
   "execution_count": null,
   "id": "00b239e3-28e9-4947-9775-14fb4ca30848",
   "metadata": {},
   "outputs": [],
   "source": [
    "#Q4. Compare and contrast tuples and lists with examples."
   ]
  },
  {
   "cell_type": "code",
   "execution_count": 47,
   "id": "1f644d71-074b-418d-ae58-e15759bf0b34",
   "metadata": {},
   "outputs": [
    {
     "data": {
      "text/plain": [
       "['apple', 'mango', 'cherry', 'banana', 'grapes']"
      ]
     },
     "execution_count": 47,
     "metadata": {},
     "output_type": "execute_result"
    }
   ],
   "source": [
    "fruit_basket=[\"apple\",\"mango\",\"cherry\",\"banana\",\"grapes\"] \n",
    "fruit_basket # declare with the help of square brackets, can store all data types"
   ]
  },
  {
   "cell_type": "code",
   "execution_count": 52,
   "id": "ccebdc3b-e710-4409-8820-d892c3a8d964",
   "metadata": {},
   "outputs": [],
   "source": [
    "fruit_basket[0]=\"Guava\""
   ]
  },
  {
   "cell_type": "code",
   "execution_count": 54,
   "id": "cad3fbda-f5c9-429c-ae4d-9265a8dc2f57",
   "metadata": {},
   "outputs": [
    {
     "data": {
      "text/plain": [
       "['Guava', 'mango', 'cherry', 'banana', 'grapes']"
      ]
     },
     "execution_count": 54,
     "metadata": {},
     "output_type": "execute_result"
    }
   ],
   "source": [
    "fruit_basket #list is mutable"
   ]
  },
  {
   "cell_type": "code",
   "execution_count": 49,
   "id": "68a4a3b0-b857-47e1-93c1-32aedeb9209e",
   "metadata": {},
   "outputs": [
    {
     "data": {
      "text/plain": [
       "(2, 'pwskills', 'lab', (9+5j))"
      ]
     },
     "execution_count": 49,
     "metadata": {},
     "output_type": "execute_result"
    }
   ],
   "source": [
    "t=(2,\"pwskills\",\"lab\",9+5j)\n",
    "t  #tuple can store all data types and declare in paranthesis"
   ]
  },
  {
   "cell_type": "code",
   "execution_count": 51,
   "id": "f8f8f4a4-194a-4db8-a6bb-5b7bc606f1c4",
   "metadata": {},
   "outputs": [
    {
     "ename": "TypeError",
     "evalue": "'tuple' object does not support item assignment",
     "output_type": "error",
     "traceback": [
      "\u001b[0;31m---------------------------------------------------------------------------\u001b[0m",
      "\u001b[0;31mTypeError\u001b[0m                                 Traceback (most recent call last)",
      "Cell \u001b[0;32mIn[51], line 1\u001b[0m\n\u001b[0;32m----> 1\u001b[0m \u001b[43mt\u001b[49m\u001b[43m[\u001b[49m\u001b[38;5;241;43m0\u001b[39;49m\u001b[43m]\u001b[49m\u001b[38;5;241m=\u001b[39m\u001b[38;5;241m5\u001b[39m \u001b[38;5;66;03m#tuple are immutable\u001b[39;00m\n",
      "\u001b[0;31mTypeError\u001b[0m: 'tuple' object does not support item assignment"
     ]
    }
   ],
   "source": [
    "t[0]=5 #tuple are immutable"
   ]
  },
  {
   "cell_type": "raw",
   "id": "df58bc6b-7cd8-4339-9c6e-4aa6a3789cd7",
   "metadata": {},
   "source": [
    "Q5.Describe the key features of sets and provide examples of their use."
   ]
  },
  {
   "cell_type": "code",
   "execution_count": 39,
   "id": "4200e72a-6d37-4575-80d2-649bcae7e44d",
   "metadata": {},
   "outputs": [],
   "source": [
    "s={2,3,25,5,5,45,2,8,9} "
   ]
  },
  {
   "cell_type": "code",
   "execution_count": 40,
   "id": "505ce9df-77b6-499b-8ace-df997da1be78",
   "metadata": {},
   "outputs": [
    {
     "data": {
      "text/plain": [
       "set"
      ]
     },
     "execution_count": 40,
     "metadata": {},
     "output_type": "execute_result"
    }
   ],
   "source": [
    "type(s)"
   ]
  },
  {
   "cell_type": "code",
   "execution_count": 42,
   "id": "0d9d3cc3-fcd4-4efa-8f8d-63201e5796c5",
   "metadata": {},
   "outputs": [
    {
     "data": {
      "text/plain": [
       "{2, 3, 5, 8, 9, 25, 45}"
      ]
     },
     "execution_count": 42,
     "metadata": {},
     "output_type": "execute_result"
    }
   ],
   "source": [
    "s #sets are unordered and unique collection of elements #doesn't alllow duplicate elements"
   ]
  },
  {
   "cell_type": "code",
   "execution_count": 44,
   "id": "91e38f55-e8c2-42d5-98bc-9c066aed795f",
   "metadata": {},
   "outputs": [
    {
     "ename": "TypeError",
     "evalue": "'set' object is not subscriptable",
     "output_type": "error",
     "traceback": [
      "\u001b[0;31m---------------------------------------------------------------------------\u001b[0m",
      "\u001b[0;31mTypeError\u001b[0m                                 Traceback (most recent call last)",
      "Cell \u001b[0;32mIn[44], line 1\u001b[0m\n\u001b[0;32m----> 1\u001b[0m \u001b[43ms\u001b[49m\u001b[43m[\u001b[49m\u001b[38;5;241;43m0\u001b[39;49m\u001b[43m]\u001b[49m \u001b[38;5;66;03m#as it is unordered indexing will not work\u001b[39;00m\n",
      "\u001b[0;31mTypeError\u001b[0m: 'set' object is not subscriptable"
     ]
    }
   ],
   "source": [
    "s[0] #as it is unordered indexing will not work"
   ]
  },
  {
   "cell_type": "raw",
   "id": "8d585d47-fe4d-4f77-aac5-7485c8239661",
   "metadata": {},
   "source": [
    "Q6. Discuss the use cases of tuples and sets in Python programming."
   ]
  },
  {
   "cell_type": "code",
   "execution_count": 55,
   "id": "65e8fec5-9de8-4f02-bf96-15941e6f79cd",
   "metadata": {},
   "outputs": [
    {
     "ename": "TypeError",
     "evalue": "'tuple' object does not support item assignment",
     "output_type": "error",
     "traceback": [
      "\u001b[0;31m---------------------------------------------------------------------------\u001b[0m",
      "\u001b[0;31mTypeError\u001b[0m                                 Traceback (most recent call last)",
      "Cell \u001b[0;32mIn[55], line 3\u001b[0m\n\u001b[1;32m      1\u001b[0m \u001b[38;5;66;03m#use of tuple- some information that we donot want to modify\u001b[39;00m\n\u001b[1;32m      2\u001b[0m personal_details\u001b[38;5;241m=\u001b[39m(\u001b[38;5;124m\"\u001b[39m\u001b[38;5;124mAadhar no\u001b[39m\u001b[38;5;124m\"\u001b[39m,\u001b[38;5;124m\"\u001b[39m\u001b[38;5;124mPan card no\u001b[39m\u001b[38;5;124m\"\u001b[39m,\u001b[38;5;124m\"\u001b[39m\u001b[38;5;124mYour name\u001b[39m\u001b[38;5;124m\"\u001b[39m)\n\u001b[0;32m----> 3\u001b[0m \u001b[43mpersonal_details\u001b[49m\u001b[43m[\u001b[49m\u001b[38;5;241;43m3\u001b[39;49m\u001b[43m]\u001b[49m\u001b[38;5;241m=\u001b[39m\u001b[38;5;124m\"\u001b[39m\u001b[38;5;124mnew name\u001b[39m\u001b[38;5;124m\"\u001b[39m\n",
      "\u001b[0;31mTypeError\u001b[0m: 'tuple' object does not support item assignment"
     ]
    }
   ],
   "source": [
    "#use of tuple- some information that we donot want to modify\n",
    "personal_details=(\"Aadhar no\",\"Pan card no\",\"Your name\") #personal deatils is an example of some data structure that we donot want to change\n",
    "personal_details[3]=\"new name\""
   ]
  },
  {
   "cell_type": "code",
   "execution_count": 57,
   "id": "b62d7f7d-eff6-4328-9cf3-95660c5b4fa4",
   "metadata": {},
   "outputs": [
    {
     "data": {
      "text/plain": [
       "{'Darjeeling', 'Kashmir', 'Kerala', 'Rajasthan'}"
      ]
     },
     "execution_count": 57,
     "metadata": {},
     "output_type": "execute_result"
    }
   ],
   "source": [
    "#use of sets-imagine set as your travel list,in which you list places you want to go and you want unique places \n",
    "#you donot want to visit the same place twice\n",
    "#with help of set you will make a set of travel destination and if you change your destination we can add or remove a particular place\n",
    "travel={\"Kerala\",\"Darjeeling\",\"Kashmir\",\"Rajasthan\"}\n",
    "travel"
   ]
  },
  {
   "cell_type": "code",
   "execution_count": 58,
   "id": "5232c0cc-56cf-4404-8117-2f091e79b2c9",
   "metadata": {},
   "outputs": [
    {
     "name": "stdout",
     "output_type": "stream",
     "text": [
      "Already in plan\n"
     ]
    }
   ],
   "source": [
    "#if you want to check kashmir is there in the set or not\n",
    "if \"Kashmir\" in travel:\n",
    "    print(\"Already in plan\")\n",
    "else:\n",
    "    print(\"Add this destination\")"
   ]
  },
  {
   "cell_type": "code",
   "execution_count": 61,
   "id": "5be806eb-9c14-4046-a5ec-81b8a7dcf82f",
   "metadata": {},
   "outputs": [],
   "source": [
    "#you want add a new destination\n",
    "travel.add(\"Delhi\")"
   ]
  },
  {
   "cell_type": "code",
   "execution_count": 60,
   "id": "5b8482d3-7d47-4b64-a38e-4c41a8806aa7",
   "metadata": {},
   "outputs": [
    {
     "data": {
      "text/plain": [
       "{'Darjeeling', 'Delhi', 'Kashmir', 'Kerala', 'Rajasthan'}"
      ]
     },
     "execution_count": 60,
     "metadata": {},
     "output_type": "execute_result"
    }
   ],
   "source": [
    "travel"
   ]
  },
  {
   "cell_type": "code",
   "execution_count": 62,
   "id": "e4a0a5bd-bad6-4c84-88ff-e00056f6ca05",
   "metadata": {},
   "outputs": [],
   "source": [
    "#you want to remove kerala from the set as you decided not go\n",
    "travel.discard(\"Kerala\")"
   ]
  },
  {
   "cell_type": "code",
   "execution_count": 63,
   "id": "e8ed702e-a2c7-4211-943e-e80b1c107f4c",
   "metadata": {},
   "outputs": [
    {
     "data": {
      "text/plain": [
       "{'Darjeeling', 'Delhi', 'Kashmir', 'Rajasthan'}"
      ]
     },
     "execution_count": 63,
     "metadata": {},
     "output_type": "execute_result"
    }
   ],
   "source": [
    "travel"
   ]
  },
  {
   "cell_type": "code",
   "execution_count": 64,
   "id": "ce284461-0989-487f-9920-e8d570ad74f4",
   "metadata": {},
   "outputs": [],
   "source": [
    "#Q7. Describe how to add, modify, and delete items in a dictionary with examples."
   ]
  },
  {
   "cell_type": "code",
   "execution_count": 65,
   "id": "468665fb-d053-4569-9e08-8aaf3d4189ae",
   "metadata": {},
   "outputs": [
    {
     "data": {
      "text/plain": [
       "{'name': 'Esara', 'mail id ': 'esara@gmail.com', 'phone number': 12345}"
      ]
     },
     "execution_count": 65,
     "metadata": {},
     "output_type": "execute_result"
    }
   ],
   "source": [
    "d={\"name\":\"Esara\",\"mail id \":\"esara@gmail.com\",\"phone number\":12345}\n",
    "d"
   ]
  },
  {
   "cell_type": "code",
   "execution_count": 68,
   "id": "cde85ba5-263b-462b-9b94-9f1d9234b6c5",
   "metadata": {},
   "outputs": [
    {
     "data": {
      "text/plain": [
       "'esara@gmail.com'"
      ]
     },
     "execution_count": 68,
     "metadata": {},
     "output_type": "execute_result"
    }
   ],
   "source": [
    "d[\"mail id \"] #access value with the help of key value"
   ]
  },
  {
   "cell_type": "code",
   "execution_count": 70,
   "id": "5aab9a5e-27af-4006-8942-e570ba873175",
   "metadata": {},
   "outputs": [
    {
     "data": {
      "text/plain": [
       "{'name': 'Esara',\n",
       " 'mail id ': 'esara@gmail.com',\n",
       " 'phone number': 12345,\n",
       " 'address': 'xyz'}"
      ]
     },
     "execution_count": 70,
     "metadata": {},
     "output_type": "execute_result"
    }
   ],
   "source": [
    "d[\"address\"]=\"xyz\"   ##modify data in dictionary\n",
    "d"
   ]
  },
  {
   "cell_type": "code",
   "execution_count": 73,
   "id": "0e1ef0a4-771e-4f2d-9388-2b7272cab8bf",
   "metadata": {},
   "outputs": [
    {
     "ename": "KeyError",
     "evalue": "'phone number'",
     "output_type": "error",
     "traceback": [
      "\u001b[0;31m---------------------------------------------------------------------------\u001b[0m",
      "\u001b[0;31mKeyError\u001b[0m                                  Traceback (most recent call last)",
      "Cell \u001b[0;32mIn[73], line 1\u001b[0m\n\u001b[0;32m----> 1\u001b[0m \u001b[38;5;28;01mdel\u001b[39;00m d[\u001b[38;5;124m\"\u001b[39m\u001b[38;5;124mphone number\u001b[39m\u001b[38;5;124m\"\u001b[39m]  \u001b[38;5;66;03m#delete a key pair\u001b[39;00m\n",
      "\u001b[0;31mKeyError\u001b[0m: 'phone number'"
     ]
    }
   ],
   "source": [
    "del d[\"phone number\"]  #delete a key pair"
   ]
  },
  {
   "cell_type": "code",
   "execution_count": 72,
   "id": "b481297a-8f71-4fb7-8ff2-e294e26ac29b",
   "metadata": {},
   "outputs": [
    {
     "data": {
      "text/plain": [
       "{'name': 'Esara', 'mail id ': 'esara@gmail.com', 'address': 'xyz'}"
      ]
     },
     "execution_count": 72,
     "metadata": {},
     "output_type": "execute_result"
    }
   ],
   "source": [
    "d"
   ]
  },
  {
   "cell_type": "code",
   "execution_count": 74,
   "id": "229ff701-821f-4bb5-a953-2462b5f2e076",
   "metadata": {},
   "outputs": [],
   "source": [
    "del d  #delete the whole dictionary"
   ]
  },
  {
   "cell_type": "code",
   "execution_count": 75,
   "id": "0c83499c-48ca-46c3-aa53-84266832ffc2",
   "metadata": {},
   "outputs": [
    {
     "ename": "NameError",
     "evalue": "name 'd' is not defined",
     "output_type": "error",
     "traceback": [
      "\u001b[0;31m---------------------------------------------------------------------------\u001b[0m",
      "\u001b[0;31mNameError\u001b[0m                                 Traceback (most recent call last)",
      "Cell \u001b[0;32mIn[75], line 1\u001b[0m\n\u001b[0;32m----> 1\u001b[0m \u001b[43md\u001b[49m\n",
      "\u001b[0;31mNameError\u001b[0m: name 'd' is not defined"
     ]
    }
   ],
   "source": [
    "d"
   ]
  },
  {
   "cell_type": "code",
   "execution_count": 76,
   "id": "4cd8e016-6d2b-4839-8299-839688c0ce56",
   "metadata": {},
   "outputs": [],
   "source": [
    "#Q8. Discuss the importance of dictionary keys being immutable and provide example"
   ]
  },
  {
   "cell_type": "code",
   "execution_count": 77,
   "id": "6bd58e0b-e62d-4685-a071-c06f3fdaad82",
   "metadata": {},
   "outputs": [],
   "source": [
    "#To understand why dictionary keys must be immutable. Let us related it to hash table. The hash table\n",
    "#implementation of dictionaries uses a hash value calculated from the key value to find the key. \n",
    "#If let’s say the key was a mutable object, its value could change, and thus its hash could also change."
   ]
  },
  {
   "cell_type": "code",
   "execution_count": 78,
   "id": "b4ff08cf-85ab-437a-818b-463ba3140ef4",
   "metadata": {},
   "outputs": [],
   "source": [
    "d={\"name\":\"Esara\",\"mail id \":\"esara@gmail.com\",\"phone number\":12345}"
   ]
  },
  {
   "cell_type": "code",
   "execution_count": 83,
   "id": "51516de3-d819-439d-b34d-eea6d630c61f",
   "metadata": {},
   "outputs": [
    {
     "ename": "KeyError",
     "evalue": "'address'",
     "output_type": "error",
     "traceback": [
      "\u001b[0;31m---------------------------------------------------------------------------\u001b[0m",
      "\u001b[0;31mKeyError\u001b[0m                                  Traceback (most recent call last)",
      "Cell \u001b[0;32mIn[83], line 1\u001b[0m\n\u001b[0;32m----> 1\u001b[0m \u001b[43md\u001b[49m\u001b[43m[\u001b[49m\u001b[38;5;124;43m\"\u001b[39;49m\u001b[38;5;124;43maddress\u001b[39;49m\u001b[38;5;124;43m\"\u001b[39;49m\u001b[43m]\u001b[49m\n",
      "\u001b[0;31mKeyError\u001b[0m: 'address'"
     ]
    }
   ],
   "source": [
    "d[\"address\"]"
   ]
  },
  {
   "cell_type": "code",
   "execution_count": null,
   "id": "752d0959-45d1-4387-98b6-99ec110523ea",
   "metadata": {},
   "outputs": [],
   "source": []
  }
 ],
 "metadata": {
  "kernelspec": {
   "display_name": "Python 3 (ipykernel)",
   "language": "python",
   "name": "python3"
  },
  "language_info": {
   "codemirror_mode": {
    "name": "ipython",
    "version": 3
   },
   "file_extension": ".py",
   "mimetype": "text/x-python",
   "name": "python",
   "nbconvert_exporter": "python",
   "pygments_lexer": "ipython3",
   "version": "3.10.8"
  }
 },
 "nbformat": 4,
 "nbformat_minor": 5
}
