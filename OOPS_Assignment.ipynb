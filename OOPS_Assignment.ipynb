{
  "nbformat": 4,
  "nbformat_minor": 0,
  "metadata": {
    "colab": {
      "provenance": [],
      "authorship_tag": "ABX9TyMMlDI2iDZIZsTstkeICimd",
      "include_colab_link": true
    },
    "kernelspec": {
      "name": "python3",
      "display_name": "Python 3"
    },
    "language_info": {
      "name": "python"
    }
  },
  "cells": [
    {
      "cell_type": "markdown",
      "metadata": {
        "id": "view-in-github",
        "colab_type": "text"
      },
      "source": [
        "<a href=\"https://colab.research.google.com/github/EsaraHossain/Assignment/blob/main/OOPS_Assignment.ipynb\" target=\"_parent\"><img src=\"https://colab.research.google.com/assets/colab-badge.svg\" alt=\"Open In Colab\"/></a>"
      ]
    },
    {
      "cell_type": "code",
      "execution_count": 1,
      "metadata": {
        "id": "719jKnOgVJ7g"
      },
      "outputs": [],
      "source": [
        "#1. What are the five key concepts of Object-Oriented Programming (OOP)?\n",
        "#Ans:Here are the five key concepts of Object-Oriented Programming (OOP) in a nutshell:\n",
        "\n",
        "#-Encapsulation: Bundling data and methods into a class, hiding internal details.\n",
        "#-Abstraction: Simplifying complex systems by modeling only essential features.\n",
        "#-Inheritance: Creating new classes based on existing ones, promoting code reuse.\n",
        "#-Polymorphism: Using a single interface to represent different underlying forms.\n",
        "#-Composition: Building complex objects by combining simpler ones."
      ]
    },
    {
      "cell_type": "code",
      "source": [
        "#2.Write a Python class for a `Car` with attributes for `make`, `model`, and `year`. Include a method to display the car's information."
      ],
      "metadata": {
        "id": "7Qv7GnjPV9mE"
      },
      "execution_count": 2,
      "outputs": []
    },
    {
      "cell_type": "code",
      "source": [
        "class Car:\n",
        "    def __init__(self, make, model, year):\n",
        "        self.make = make\n",
        "        self.model = model\n",
        "        self.year = year\n",
        "\n",
        "    def display_info(self):\n",
        "        print(f\"Car Make: {self.make}\")\n",
        "        print(f\"Car Model: {self.model}\")\n",
        "        print(f\"Car Year: {self.year}\")\n",
        "\n",
        "\n",
        "my_car = Car(\"Toyota\", \"Camry\", 2022)\n",
        "my_car.display_info()\n"
      ],
      "metadata": {
        "colab": {
          "base_uri": "https://localhost:8080/"
        },
        "id": "tz9xBNXNWZNA",
        "outputId": "45905226-6729-4243-dee9-5a33f833fc7d"
      },
      "execution_count": 3,
      "outputs": [
        {
          "output_type": "stream",
          "name": "stdout",
          "text": [
            "Car Make: Toyota\n",
            "Car Model: Camry\n",
            "Car Year: 2022\n"
          ]
        }
      ]
    },
    {
      "cell_type": "code",
      "source": [
        "#3.Explain the difference between instance methods and class methods. Provide an example of each."
      ],
      "metadata": {
        "id": "I_cTbmIuWhjA"
      },
      "execution_count": 4,
      "outputs": []
    },
    {
      "cell_type": "code",
      "source": [
        "#Ans:\n",
        "#Instance Methods\n",
        "#Definition: Instance methods operate on an instance of the class. They can access and modify the instance’s attributes and other instance methods. They are defined with the self parameter, which refers to the specific instance of the class.\n",
        "#Usage: Use instance methods when you need to work with data specific to a particular object.\n",
        "#Example:\n",
        "class Dog:\n",
        "    def __init__(self, name, age):\n",
        "        self.name = name\n",
        "        self.age = age\n",
        "\n",
        "    def bark(self):\n",
        "        print(f\"{self.name} says woof!\")\n",
        "\n",
        "\n",
        "my_dog = Dog(\"Buddy\", 3)\n",
        "my_dog.bark()\n"
      ],
      "metadata": {
        "colab": {
          "base_uri": "https://localhost:8080/"
        },
        "id": "0kMW-crYW-W3",
        "outputId": "6bc122e9-20e1-4d08-a04f-0495096f225d"
      },
      "execution_count": 5,
      "outputs": [
        {
          "output_type": "stream",
          "name": "stdout",
          "text": [
            "Buddy says woof!\n"
          ]
        }
      ]
    },
    {
      "cell_type": "code",
      "source": [
        "#Class Methods\n",
        "#Definition: Class methods operate on the class itself rather than on instances. They can access and modify class-level attributes. They are defined with the @classmethod decorator and take cls as the first parameter, which refers to the class itself.\n",
        "#Usage: Use class methods when you need to work with data that is shared among all instances of the class or when creating factory methods.\n",
        "#Example:\n",
        "class Dog:\n",
        "    species = \"Canis familiaris\"\n",
        "    def __init__(self, name, age):\n",
        "        self.name = name\n",
        "        self.age = age\n",
        "\n",
        "    @classmethod\n",
        "    def species_info(cls):\n",
        "        print(f\"All dogs belong to the species {cls.species}.\")\n",
        "\n",
        "Dog.species_info()\n"
      ],
      "metadata": {
        "colab": {
          "base_uri": "https://localhost:8080/"
        },
        "id": "X3dbe8xmXOfb",
        "outputId": "c7f2db20-870c-485e-d54b-891fd76b9670"
      },
      "execution_count": 6,
      "outputs": [
        {
          "output_type": "stream",
          "name": "stdout",
          "text": [
            "All dogs belong to the species Canis familiaris.\n"
          ]
        }
      ]
    },
    {
      "cell_type": "code",
      "source": [
        "#4.How does Python implement method overloading? Give an example.\n",
        "#Ans:Python implements a form of method overloading through default arguments, variable-length arguments, and the use of keyword arguments. These features enable a method to handle different numbers and types of arguments.\n",
        "\n",
        "#Using Default Arguments\n",
        "#You can provide default values for parameters in a method, which allows the method to be called with a varying number of arguments.\n",
        "class Greeter:\n",
        "    def greet(self, name=\"Guest\", greeting=\"Hello\"):\n",
        "        print(f\"{greeting}, {name}!\")\n",
        "\n",
        "\n",
        "greeter = Greeter()\n",
        "\n",
        "greeter.greet()\n",
        "\n",
        "greeter.greet(\"Alice\")\n",
        "\n",
        "greeter.greet(\"Bob\", \"Good morning\")\n",
        "\n",
        "#Using *args and **kwargs\n",
        "#You can use *args (for a variable number of positional arguments) and **kwargs (for a variable number of keyword arguments) to create methods that can handle different numbers of arguments.\n",
        "class Calculator:\n",
        "    def add(self, *args):\n",
        "        return sum(args)\n",
        "calc = Calculator()\n",
        "\n",
        "print(calc.add(1, 2))\n",
        "print(calc.add(1, 2, 3, 4))\n",
        "print(calc.add(5))\n"
      ],
      "metadata": {
        "colab": {
          "base_uri": "https://localhost:8080/"
        },
        "id": "gFzTKfXXXgt5",
        "outputId": "7c55cf19-b376-4ced-81d5-6b777d7151be"
      },
      "execution_count": 7,
      "outputs": [
        {
          "output_type": "stream",
          "name": "stdout",
          "text": [
            "Hello, Guest!\n",
            "Hello, Alice!\n",
            "Good morning, Bob!\n",
            "3\n",
            "10\n",
            "5\n"
          ]
        }
      ]
    },
    {
      "cell_type": "code",
      "source": [
        "#5. What are the three types of access modifiers in Python? How are they denoted?\n",
        "#Ans:The three types of access modifiers in Python are:\n",
        "#Public:\n",
        "\n",
        "#Description: Public members are accessible from outside the class. By default, all attributes and methods are public in Python.\n",
        "#Denotation: No special prefix is used.\n",
        "#Example:\n",
        "class MyClass:\n",
        "    def __init__(self, value):\n",
        "        self.public_attr = value\n",
        "\n",
        "    def public_method(self):\n",
        "        print(\"This is a public method.\")\n",
        "\n",
        "obj = MyClass(10)\n",
        "print(obj.public_attr)\n",
        "obj.public_method()\n",
        "\n",
        "#Protected:\n",
        "\n",
        "#Description: Protected members are intended to be accessed only within the class and its subclasses. Python does not enforce this strictly but uses naming conventions to indicate protected status.\n",
        "#Denotation: Prefix with a single underscore (_).\n",
        "#Example:\n",
        "class MyClass:\n",
        "    def __init__(self, value):\n",
        "        self._protected_attr = value\n",
        "\n",
        "    def _protected_method(self):\n",
        "        print(\"This is a protected method.\")\n",
        "\n",
        "class SubClass(MyClass):\n",
        "    def show(self):\n",
        "        print(self._protected_attr)\n",
        "        self._protected_method()\n",
        "\n",
        "obj = SubClass(20)\n",
        "obj.show()\n",
        "\n",
        "#Private:\n",
        "\n",
        "#Description: Private members are intended to be accessible only within the class itself. They are not intended to be accessed directly from outside the class or from subclasses.\n",
        "#Denotation: Prefix with double underscores (__).\n",
        "#Example:\n",
        "\n",
        "class MyClass:\n",
        "    def __init__(self, value):\n",
        "        self.__private_attr = value\n",
        "\n",
        "    def __private_method(self):\n",
        "        print(\"This is a private method.\")\n",
        "\n",
        "    def public_method(self):\n",
        "        print(self.__private_attr)\n",
        "        self.__private_method()\n",
        "\n",
        "obj = MyClass(30)\n",
        "obj.public_method()\n",
        "\n"
      ],
      "metadata": {
        "colab": {
          "base_uri": "https://localhost:8080/"
        },
        "id": "c9aDKM89Yi7i",
        "outputId": "78224b9c-3178-44a9-bf66-94090b62808d"
      },
      "execution_count": 8,
      "outputs": [
        {
          "output_type": "stream",
          "name": "stdout",
          "text": [
            "10\n",
            "This is a public method.\n",
            "20\n",
            "This is a protected method.\n",
            "30\n",
            "This is a private method.\n"
          ]
        }
      ]
    },
    {
      "cell_type": "code",
      "source": [
        "#6.Describe the five types of inheritance in Python. Provide a simple example of multiple inheritance.\n",
        "#Ans:Here are the five types of inheritance in Python:\n",
        "\n",
        "#Single Inheritance: A class inherits from a single base class.\n",
        "#Example:\n",
        "class Animal:\n",
        "    def speak(self):\n",
        "        print(\"Animal speaks\")\n",
        "\n",
        "class Dog(Animal):\n",
        "    def bark(self):\n",
        "        print(\"Dog barks\")\n",
        "\n",
        "dog = Dog()\n",
        "dog.speak()\n",
        "dog.bark()\n",
        "\n",
        "#Multiple Inheritance: A class inherits from more than one base class.\n",
        "#Example:\n",
        "class Mother:\n",
        "    def cook(self):\n",
        "        print(\"Mother cooks\")\n",
        "\n",
        "class Father:\n",
        "    def drive(self):\n",
        "        print(\"Father drives\")\n",
        "\n",
        "class Child(Mother, Father):\n",
        "    def play(self):\n",
        "        print(\"Child plays\")\n",
        "\n",
        "child = Child()\n",
        "child.cook()\n",
        "child.drive()\n",
        "child.play()\n",
        "\n",
        "#Multilevel Inheritance: A class inherits from a derived class, forming a chain of inheritance.\n",
        "#Example:\n",
        "class Grandparent:\n",
        "    def wisdom(self):\n",
        "        print(\"Grandparent's wisdom\")\n",
        "\n",
        "class Parent(Grandparent):\n",
        "    def guidance(self):\n",
        "        print(\"Parent's guidance\")\n",
        "\n",
        "class Child(Parent):\n",
        "    def play(self):\n",
        "        print(\"Child plays\")\n",
        "\n",
        "child = Child()\n",
        "child.wisdom()\n",
        "child.guidance()\n",
        "child.play()\n",
        "\n",
        "#Hierarchical Inheritance: Multiple classes inherit from a single base class.\n",
        "#Example:\n",
        "class Parent:\n",
        "    def teach(self):\n",
        "        print(\"Parent teaches\")\n",
        "\n",
        "class Child1(Parent):\n",
        "    def study(self):\n",
        "        print(\"Child1 studies\")\n",
        "\n",
        "class Child2(Parent):\n",
        "    def play(self):\n",
        "        print(\"Child2 plays\")\n",
        "\n",
        "child1 = Child1()\n",
        "child2 = Child2()\n",
        "child1.teach()\n",
        "child2.teach()\n",
        "\n",
        "#Hybrid Inheritance: A combination of two or more types of inheritance, typically involving multiple and multilevel inheritance.\n",
        "#Example:\n",
        "class Base:\n",
        "    def base_method(self):\n",
        "        print(\"Base method\")\n",
        "\n",
        "class A(Base):\n",
        "    def method_a(self):\n",
        "        print(\"Method A\")\n",
        "\n",
        "class B(Base):\n",
        "    def method_b(self):\n",
        "        print(\"Method B\")\n",
        "\n",
        "class C(A, B):\n",
        "    def method_c(self):\n",
        "        print(\"Method C\")\n",
        "\n",
        "c = C()\n",
        "c.base_method()\n",
        "c.method_a()\n",
        "c.method_b()\n",
        "c.method_c()\n",
        "\n",
        "#Here is a detailed example demonstrating multiple inheritance:\n",
        "class Mother:\n",
        "    def cook(self):\n",
        "        print(\"Mother cooks\")\n",
        "\n",
        "class Father:\n",
        "    def drive(self):\n",
        "        print(\"Father drives\")\n",
        "\n",
        "class Child(Mother, Father):\n",
        "    def play(self):\n",
        "        print(\"Child plays\")\n",
        "\n",
        "\n",
        "child = Child()\n",
        "child.cook()\n",
        "child.drive()\n",
        "child.play()\n"
      ],
      "metadata": {
        "colab": {
          "base_uri": "https://localhost:8080/"
        },
        "id": "exAgsF_hZm9b",
        "outputId": "c19e511a-2c88-4739-f4a4-fd67426d4d2d"
      },
      "execution_count": 9,
      "outputs": [
        {
          "output_type": "stream",
          "name": "stdout",
          "text": [
            "Animal speaks\n",
            "Dog barks\n",
            "Mother cooks\n",
            "Father drives\n",
            "Child plays\n",
            "Grandparent's wisdom\n",
            "Parent's guidance\n",
            "Child plays\n",
            "Parent teaches\n",
            "Parent teaches\n",
            "Base method\n",
            "Method A\n",
            "Method B\n",
            "Method C\n",
            "Mother cooks\n",
            "Father drives\n",
            "Child plays\n"
          ]
        }
      ]
    },
    {
      "cell_type": "code",
      "source": [
        "#7.What is the Method Resolution Order (MRO) in Python? How can you retrieve it programmatically?\n",
        "#Ans:Method Resolution Order (MRO) in Python defines the order in which base classes are searched when looking for a method. It is particularly important in multiple inheritance scenarios, where a class can inherit from multiple parent classes, leading to complex hierarchies.\n",
        "#Retrieving MRO Programmatically:\n",
        "#Using __mro__ Attribute: The __mro__ attribute of a class provides a tuple of classes in the MRO.\n",
        "#Example:\n",
        "class A:\n",
        "    pass\n",
        "\n",
        "class B(A):\n",
        "    pass\n",
        "\n",
        "class C(A):\n",
        "    pass\n",
        "\n",
        "class D(B, C):\n",
        "    pass\n",
        "\n",
        "print(D.__mro__)\n",
        "\n",
        "#Using mro() Method: The mro() method returns the MRO as a list.\n",
        "#Example:\n",
        "class A:\n",
        "    pass\n",
        "\n",
        "class B(A):\n",
        "    pass\n",
        "\n",
        "class C(A):\n",
        "    pass\n",
        "\n",
        "class D(B, C):\n",
        "    pass\n",
        "\n",
        "print(D.mro())\n"
      ],
      "metadata": {
        "colab": {
          "base_uri": "https://localhost:8080/"
        },
        "id": "9FjqcO09bFPw",
        "outputId": "b0b3a25e-83a5-4d5f-fb72-76dffc3efe85"
      },
      "execution_count": 10,
      "outputs": [
        {
          "output_type": "stream",
          "name": "stdout",
          "text": [
            "(<class '__main__.D'>, <class '__main__.B'>, <class '__main__.C'>, <class '__main__.A'>, <class 'object'>)\n",
            "[<class '__main__.D'>, <class '__main__.B'>, <class '__main__.C'>, <class '__main__.A'>, <class 'object'>]\n"
          ]
        }
      ]
    },
    {
      "cell_type": "code",
      "source": [
        "#8. Create an abstract base class `Shape` with an abstract method `area()`. Then create two subclasses `Circle` and `Rectangle` that implement the `area()` method.\n",
        "#Ans:\n",
        "from abc import ABC, abstractmethod\n",
        "import math\n",
        "\n",
        "class Shape(ABC):\n",
        "    @abstractmethod\n",
        "    def area(self):\n",
        "        \"\"\"Method to compute the area of the shape.\"\"\"\n",
        "        pass\n",
        "\n",
        "class Circle(Shape):\n",
        "    def __init__(self, radius):\n",
        "        self.radius = radius\n",
        "\n",
        "    def area(self):\n",
        "        \"\"\"Calculate the area of the circle.\"\"\"\n",
        "        return math.pi * self.radius ** 2\n",
        "\n",
        "class Rectangle(Shape):\n",
        "    def __init__(self, width, height):\n",
        "        self.width = width\n",
        "        self.height = height\n",
        "\n",
        "    def area(self):\n",
        "        \"\"\"Calculate the area of the rectangle.\"\"\"\n",
        "        return self.width * self.height\n",
        "\n",
        "circle = Circle(5)\n",
        "rectangle = Rectangle(4, 6)\n",
        "\n",
        "print(f\"Circle area: {circle.area()}\")\n",
        "print(f\"Rectangle area: {rectangle.area()}\")\n"
      ],
      "metadata": {
        "colab": {
          "base_uri": "https://localhost:8080/"
        },
        "id": "88uea-0GdeAx",
        "outputId": "819d100c-bda3-4209-bd95-6190fc75009a"
      },
      "execution_count": 11,
      "outputs": [
        {
          "output_type": "stream",
          "name": "stdout",
          "text": [
            "Circle area: 78.53981633974483\n",
            "Rectangle area: 24\n"
          ]
        }
      ]
    },
    {
      "cell_type": "code",
      "source": [
        "#9. Demonstrate polymorphism by creating a function that can work with different shape objects to calculate and print their areas.\n",
        "#Ans:\n",
        "from abc import ABC, abstractmethod\n",
        "import math\n",
        "\n",
        "class Shape(ABC):\n",
        "    @abstractmethod\n",
        "    def area(self):\n",
        "        \"\"\"Method to compute the area of the shape.\"\"\"\n",
        "        pass\n",
        "\n",
        "class Circle(Shape):\n",
        "    def __init__(self, radius):\n",
        "        self.radius = radius\n",
        "\n",
        "    def area(self):\n",
        "        \"\"\"Calculate the area of the circle.\"\"\"\n",
        "        return math.pi * self.radius ** 2\n",
        "\n",
        "class Rectangle(Shape):\n",
        "    def __init__(self, width, height):\n",
        "        self.width = width\n",
        "        self.height = height\n",
        "\n",
        "    def area(self):\n",
        "        \"\"\"Calculate the area of the rectangle.\"\"\"\n",
        "        return self.width * self.height\n",
        "\n",
        "def print_area(shape):\n",
        "    \"\"\"Function to print the area of any shape object.\"\"\"\n",
        "    if isinstance(shape, Shape):\n",
        "        print(f\"Area: {shape.area()}\")\n",
        "    else:\n",
        "        raise TypeError(\"Object must be an instance of Shape\")\n",
        "\n",
        "circle = Circle(5)\n",
        "rectangle = Rectangle(4, 6)\n",
        "\n",
        "print_area(circle)\n",
        "print_area(rectangle)\n"
      ],
      "metadata": {
        "colab": {
          "base_uri": "https://localhost:8080/"
        },
        "id": "sAs74K86eBTn",
        "outputId": "f712ae7c-0973-43b6-9300-521382ee3712"
      },
      "execution_count": 12,
      "outputs": [
        {
          "output_type": "stream",
          "name": "stdout",
          "text": [
            "Area: 78.53981633974483\n",
            "Area: 24\n"
          ]
        }
      ]
    },
    {
      "cell_type": "code",
      "source": [
        "#10. Implement encapsulation in a `BankAccount` class with private attributes for `balance` and `account_number`. Include methods for deposit, withdrawal, and balance inquiry.\n",
        "#Ans:\n",
        "class BankAccount:\n",
        "    def __init__(self, account_number, initial_balance=0):\n",
        "        self.__account_number = account_number  # Private attribute\n",
        "        self.__balance = initial_balance        # Private attribute\n",
        "\n",
        "    def deposit(self, amount):\n",
        "        \"\"\"Method to deposit money into the account.\"\"\"\n",
        "        if amount > 0:\n",
        "            self.__balance += amount\n",
        "            print(f\"Deposited ${amount:.2f}. New balance: ${self.__balance:.2f}\")\n",
        "        else:\n",
        "            print(\"Deposit amount must be positive.\")\n",
        "\n",
        "    def withdraw(self, amount):\n",
        "        \"\"\"Method to withdraw money from the account.\"\"\"\n",
        "        if 0 < amount <= self.__balance:\n",
        "            self.__balance -= amount\n",
        "            print(f\"Withdrew ${amount:.2f}. New balance: ${self.__balance:.2f}\")\n",
        "        else:\n",
        "            print(\"Insufficient funds or invalid amount.\")\n",
        "\n",
        "    def get_balance(self):\n",
        "        \"\"\"Method to get the current balance.\"\"\"\n",
        "        return self.__balance\n",
        "\n",
        "    def get_account_number(self):\n",
        "        \"\"\"Method to get the account number.\"\"\"\n",
        "        return self.__account_number\n",
        "\n",
        "\n",
        "account = BankAccount(\"123456789\", 1000)\n",
        "\n",
        "print(f\"Account Number: {account.get_account_number()}\")\n",
        "print(f\"Current Balance: ${account.get_balance():.2f}\")\n",
        "\n",
        "account.deposit(500)\n",
        "account.withdraw(200)\n",
        "account.withdraw(1500)\n"
      ],
      "metadata": {
        "colab": {
          "base_uri": "https://localhost:8080/"
        },
        "id": "DRh3Nu-7eZbf",
        "outputId": "48556546-5447-4640-dcc5-82d01e19076e"
      },
      "execution_count": 13,
      "outputs": [
        {
          "output_type": "stream",
          "name": "stdout",
          "text": [
            "Account Number: 123456789\n",
            "Current Balance: $1000.00\n",
            "Deposited $500.00. New balance: $1500.00\n",
            "Withdrew $200.00. New balance: $1300.00\n",
            "Insufficient funds or invalid amount.\n"
          ]
        }
      ]
    },
    {
      "cell_type": "code",
      "source": [
        "#11.Write a class that overrides the `__str__` and `__add__` magic methods. What will these methods allow you to do?\n",
        "#Ans:\n",
        "#Here’s how you can override these methods in a class:\n",
        "\n",
        "#__str__ Method: This method is used to define the “informal” or user-friendly string representation of an object. It is called by the str() function and when you use print() on an instance of the class.\n",
        "\n",
        "#__add__ Method: This method allows you to define the behavior of the + operator for your class. It is called when you use the + operator between two instances of the class.\n",
        "class Vector:\n",
        "    def __init__(self, x, y):\n",
        "        self.x = x\n",
        "        self.y = y\n",
        "\n",
        "    def __str__(self):\n",
        "        \"\"\"Return a string representation of the vector.\"\"\"\n",
        "        return f\"Vector({self.x}, {self.y})\"\n",
        "\n",
        "    def __add__(self, other):\n",
        "        \"\"\"Add two vectors together.\"\"\"\n",
        "        if isinstance(other, Vector):\n",
        "            return Vector(self.x + other.x, self.y + other.y)\n",
        "        return NotImplemented\n",
        "\n",
        "v1 = Vector(2, 3)\n",
        "v2 = Vector(4, 5)\n",
        "\n",
        "print(v1)\n",
        "print(v2)\n",
        "\n",
        "v3 = v1 + v2\n",
        "print(v3)\n"
      ],
      "metadata": {
        "colab": {
          "base_uri": "https://localhost:8080/"
        },
        "id": "jxL8BKuHfO_I",
        "outputId": "52d07070-9a0b-415a-cb21-74f32369c73c"
      },
      "execution_count": 14,
      "outputs": [
        {
          "output_type": "stream",
          "name": "stdout",
          "text": [
            "Vector(2, 3)\n",
            "Vector(4, 5)\n",
            "Vector(6, 8)\n"
          ]
        }
      ]
    },
    {
      "cell_type": "code",
      "source": [
        "#12.Create a decorator that measures and prints the execution time of a function.\n",
        "import time\n",
        "\n",
        "def timing_decorator(func):\n",
        "    \"\"\"Decorator to measure the execution time of a function.\"\"\"\n",
        "    def wrapper(*args, **kwargs):\n",
        "        start_time = time.time()\n",
        "        result = func(*args, **kwargs)\n",
        "        end_time = time.time()\n",
        "        execution_time = end_time - start_time\n",
        "        print(f\"Function '{func.__name__}' took {execution_time:.4f} seconds to execute.\")\n",
        "        return result\n",
        "    return wrapper\n",
        "\n",
        "@timing_decorator\n",
        "def example_function(n):\n",
        "    \"\"\"Example function that performs some work.\"\"\"\n",
        "    total = 0\n",
        "    for i in range(n):\n",
        "        total += i\n",
        "    return total\n",
        "\n",
        "result = example_function(1000000)\n",
        "print(f\"Result: {result}\")\n"
      ],
      "metadata": {
        "colab": {
          "base_uri": "https://localhost:8080/"
        },
        "id": "yyIgF_t6fzER",
        "outputId": "8cb068e0-1ec0-40b6-bf6e-96e0ce7b4ead"
      },
      "execution_count": 15,
      "outputs": [
        {
          "output_type": "stream",
          "name": "stdout",
          "text": [
            "Function 'example_function' took 0.1400 seconds to execute.\n",
            "Result: 499999500000\n"
          ]
        }
      ]
    },
    {
      "cell_type": "code",
      "source": [
        "#13. Explain the concept of the Diamond Problem in multiple inheritance. How does Python resolve it?\n",
        "#Ans:The Diamond Problem is a complication that arises in multiple inheritance scenarios where a class inherits from two classes that both inherit from a common base class. This can lead to ambiguity about which method or attribute should be inherited from the common base class.\n",
        "#Example of the Diamond Problem:\n",
        "class A:\n",
        "    def method(self):\n",
        "        print(\"Method in A\")\n",
        "\n",
        "class B(A):\n",
        "    def method(self):\n",
        "        print(\"Method in B\")\n",
        "\n",
        "class C(A):\n",
        "    def method(self):\n",
        "        print(\"Method in C\")\n",
        "\n",
        "class D(B, C):\n",
        "    pass\n",
        "\n",
        "d = D()\n",
        "d.method()\n",
        "\n",
        "#Example with MRO in Python\n",
        "#You can retrieve the MRO of a class using the __mro__ attribute or the mro() method.\n",
        "class A:\n",
        "    def method(self):\n",
        "        print(\"Method in A\")\n",
        "\n",
        "class B(A):\n",
        "    def method(self):\n",
        "        print(\"Method in B\")\n",
        "\n",
        "class C(A):\n",
        "    def method(self):\n",
        "        print(\"Method in C\")\n",
        "\n",
        "class D(B, C):\n",
        "    pass\n",
        "\n",
        "d = D()\n",
        "d.method()\n"
      ],
      "metadata": {
        "colab": {
          "base_uri": "https://localhost:8080/"
        },
        "id": "Mx49fg5AgMoq",
        "outputId": "7a1ceff1-6c61-4b49-f46b-17fd69977e2d"
      },
      "execution_count": 16,
      "outputs": [
        {
          "output_type": "stream",
          "name": "stdout",
          "text": [
            "Method in B\n",
            "Method in B\n"
          ]
        }
      ]
    },
    {
      "cell_type": "code",
      "source": [
        "#14. Write a class method that keeps track of the number of instances created from a class.\n",
        "#Ans:\n",
        "class InstanceCounter:\n",
        "\n",
        "    instance_count = 0\n",
        "\n",
        "    def __init__(self):\n",
        "\n",
        "        InstanceCounter.instance_count += 1\n",
        "\n",
        "    @classmethod\n",
        "    def get_instance_count(cls):\n",
        "        \"\"\"Class method to get the current number of instances.\"\"\"\n",
        "        return cls.instance_count\n",
        "\n",
        "obj1 = InstanceCounter()\n",
        "obj2 = InstanceCounter()\n",
        "obj3 = InstanceCounter()\n",
        "\n",
        "print(f\"Number of instances created: {InstanceCounter.get_instance_count()}\")\n"
      ],
      "metadata": {
        "colab": {
          "base_uri": "https://localhost:8080/"
        },
        "id": "e2mCNNtug7oI",
        "outputId": "ac5e1c86-c4f4-4b70-ccd1-eddf1080ff06"
      },
      "execution_count": 17,
      "outputs": [
        {
          "output_type": "stream",
          "name": "stdout",
          "text": [
            "Number of instances created: 3\n"
          ]
        }
      ]
    },
    {
      "cell_type": "code",
      "source": [
        "#15. Implement a static method in a class that checks if a given year is a leap year.\n",
        "#Ans:\n",
        "class YearUtils:\n",
        "    @staticmethod\n",
        "    def is_leap_year(year):\n",
        "        \"\"\"Check if a given year is a leap year.\"\"\"\n",
        "        if (year % 4 == 0):\n",
        "            if (year % 100 == 0):\n",
        "                if (year % 400 == 0):\n",
        "                    return True\n",
        "                else:\n",
        "                    return False\n",
        "            else:\n",
        "                return True\n",
        "        else:\n",
        "            return False\n",
        "\n",
        "year = 2024\n",
        "print(f\"Is {year} a leap year? {YearUtils.is_leap_year(year)}\")\n",
        "\n",
        "year = 1900\n",
        "print(f\"Is {year} a leap year? {YearUtils.is_leap_year(year)}\")\n",
        "\n",
        "year = 2000\n",
        "print(f\"Is {year} a leap year? {YearUtils.is_leap_year(year)}\")\n"
      ],
      "metadata": {
        "colab": {
          "base_uri": "https://localhost:8080/"
        },
        "id": "WfI1L6V7hPSQ",
        "outputId": "9c18a983-8986-4dd5-bcdf-ed39c06654e0"
      },
      "execution_count": 18,
      "outputs": [
        {
          "output_type": "stream",
          "name": "stdout",
          "text": [
            "Is 2024 a leap year? True\n",
            "Is 1900 a leap year? False\n",
            "Is 2000 a leap year? True\n"
          ]
        }
      ]
    },
    {
      "cell_type": "code",
      "source": [],
      "metadata": {
        "id": "4bNLW4SYhiXE"
      },
      "execution_count": null,
      "outputs": []
    }
  ]
}