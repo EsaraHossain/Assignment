{
  "nbformat": 4,
  "nbformat_minor": 0,
  "metadata": {
    "colab": {
      "provenance": [],
      "authorship_tag": "ABX9TyPR+YlBwOzciUtuawY4BvCF",
      "include_colab_link": true
    },
    "kernelspec": {
      "name": "python3",
      "display_name": "Python 3"
    },
    "language_info": {
      "name": "python"
    }
  },
  "cells": [
    {
      "cell_type": "markdown",
      "metadata": {
        "id": "view-in-github",
        "colab_type": "text"
      },
      "source": [
        "<a href=\"https://colab.research.google.com/github/EsaraHossain/Assignment/blob/main/Assignment_Function.ipynb\" target=\"_parent\"><img src=\"https://colab.research.google.com/assets/colab-badge.svg\" alt=\"Open In Colab\"/></a>"
      ]
    },
    {
      "cell_type": "code",
      "execution_count": null,
      "metadata": {
        "id": "ZP7xj-g1C4So"
      },
      "outputs": [],
      "source": [
        "#Q1.Write a Python function that takes a list of numbers as input and returns the sum of all even numbers in the list."
      ]
    },
    {
      "cell_type": "code",
      "source": [
        "def even_number():\n",
        "    lst = []\n",
        "    n = int(input(\"Enter number of elements: \"))\n",
        "    for i in range(0, n):\n",
        "        ele = int(input())\n",
        "        lst.append(ele)\n",
        "    print(lst)\n",
        "    Sum_of_numbers=sum(num for num in lst if not num%2)\n",
        "    return Sum_of_numbers"
      ],
      "metadata": {
        "id": "sMRJLPkZDoDs"
      },
      "execution_count": null,
      "outputs": []
    },
    {
      "cell_type": "code",
      "source": [
        "even_number()"
      ],
      "metadata": {
        "colab": {
          "base_uri": "https://localhost:8080/"
        },
        "id": "3ftFh6UXGBxt",
        "outputId": "73bc06cc-1a6b-4278-d226-dc296f7a716b"
      },
      "execution_count": null,
      "outputs": [
        {
          "output_type": "stream",
          "name": "stdout",
          "text": [
            "Enter number of elements: 5\n",
            "6\n",
            "9\n",
            "5\n",
            "4\n",
            "5\n",
            "[6, 9, 5, 4, 5]\n"
          ]
        },
        {
          "output_type": "execute_result",
          "data": {
            "text/plain": [
              "10"
            ]
          },
          "metadata": {},
          "execution_count": 9
        }
      ]
    },
    {
      "cell_type": "code",
      "source": [
        "# Q2.Create a Python function that accepts a string and returns the reverse of that string."
      ],
      "metadata": {
        "id": "0_DvHIuKHjID"
      },
      "execution_count": null,
      "outputs": []
    },
    {
      "cell_type": "code",
      "source": [
        "def reverse_string():\n",
        "    s=input(\"Enter the string you want to reverse\")\n",
        "    print(\"The Original string\",s)\n",
        "    st=\"\"\n",
        "    for i in s:\n",
        "        st=i+st\n",
        "    return print(\"The Reverse of string is :\",st)"
      ],
      "metadata": {
        "id": "agkhSEXRHp8e"
      },
      "execution_count": null,
      "outputs": []
    },
    {
      "cell_type": "code",
      "source": [
        "reverse_string()"
      ],
      "metadata": {
        "colab": {
          "base_uri": "https://localhost:8080/"
        },
        "id": "ZCdthSzWHtI-",
        "outputId": "5cfe068e-8571-4f67-ded4-f74d742ed4ee"
      },
      "execution_count": null,
      "outputs": [
        {
          "output_type": "stream",
          "name": "stdout",
          "text": [
            "Enter the string you want to reversepwskills lab\n",
            "The Original string pwskills lab\n",
            "The Reverse of string is : bal sllikswp\n"
          ]
        }
      ]
    },
    {
      "cell_type": "code",
      "source": [
        "#Q3.Implement a Python function that takes a list of integers and returns a new list containing the squares of each number."
      ],
      "metadata": {
        "id": "wMt24FmaHv1l"
      },
      "execution_count": null,
      "outputs": []
    },
    {
      "cell_type": "code",
      "source": [
        "def square_list(l):\n",
        "    sq=[]\n",
        "    for i in l:\n",
        "        if type(i)== int:\n",
        "            sq.append(i**2)\n",
        "    return print(\"The Square of list\",sq)"
      ],
      "metadata": {
        "id": "pfuozaHlH2Om"
      },
      "execution_count": null,
      "outputs": []
    },
    {
      "cell_type": "code",
      "source": [
        "square_list([8,\"e\",8+5j,9,6])"
      ],
      "metadata": {
        "colab": {
          "base_uri": "https://localhost:8080/"
        },
        "id": "f2ZebwlzH6le",
        "outputId": "025b0c2b-1f57-4f0d-a0d4-b2ccc4dbd595"
      },
      "execution_count": null,
      "outputs": [
        {
          "output_type": "stream",
          "name": "stdout",
          "text": [
            "The Square of list [64, 81, 36]\n"
          ]
        }
      ]
    },
    {
      "cell_type": "code",
      "source": [
        "#Q4-Write a Python function that checks if a given number is prime or not from 1 to 200."
      ],
      "metadata": {
        "id": "tTgBRCE6H8hw"
      },
      "execution_count": null,
      "outputs": []
    },
    {
      "cell_type": "code",
      "source": [
        "def is_prime(n):\n",
        "    if n <= 1:\n",
        "        return False\n",
        "    for i in range(2, int(n**0.5) + 1):\n",
        "        if n % i == 0:\n",
        "            return False\n",
        "    return True\n",
        "\n",
        "for number in range(1, 201):\n",
        "    if is_prime(number):\n",
        "        print(number)"
      ],
      "metadata": {
        "colab": {
          "base_uri": "https://localhost:8080/"
        },
        "id": "WVZVkJDPH_dX",
        "outputId": "d103d0c3-1e06-42f7-f054-9852aa271111"
      },
      "execution_count": null,
      "outputs": [
        {
          "output_type": "stream",
          "name": "stdout",
          "text": [
            "2\n",
            "3\n",
            "5\n",
            "7\n",
            "11\n",
            "13\n",
            "17\n",
            "19\n",
            "23\n",
            "29\n",
            "31\n",
            "37\n",
            "41\n",
            "43\n",
            "47\n",
            "53\n",
            "59\n",
            "61\n",
            "67\n",
            "71\n",
            "73\n",
            "79\n",
            "83\n",
            "89\n",
            "97\n",
            "101\n",
            "103\n",
            "107\n",
            "109\n",
            "113\n",
            "127\n",
            "131\n",
            "137\n",
            "139\n",
            "149\n",
            "151\n",
            "157\n",
            "163\n",
            "167\n",
            "173\n",
            "179\n",
            "181\n",
            "191\n",
            "193\n",
            "197\n",
            "199\n"
          ]
        }
      ]
    },
    {
      "cell_type": "code",
      "source": [
        "#Q5- Create an iterator class in Python that generates the Fibonacci sequence up to a specified number of terms."
      ],
      "metadata": {
        "id": "oxg2OCR_IDyv"
      },
      "execution_count": null,
      "outputs": []
    },
    {
      "cell_type": "code",
      "source": [
        "class Fibonacci:\n",
        "    def __init__(self, max_terms):\n",
        "        self.max_terms = max_terms\n",
        "        self.current_term = 0\n",
        "        self.a, self.b = 0, 1\n",
        "\n",
        "    def __iter__(self):\n",
        "        return self\n",
        "\n",
        "    def __next__(self):\n",
        "        if self.current_term >= self.max_terms:\n",
        "            raise StopIteration\n",
        "        if self.current_term == 0:\n",
        "            self.current_term += 1\n",
        "            return self.a\n",
        "        elif self.current_term == 1:\n",
        "            self.current_term += 1\n",
        "            return self.b\n",
        "        else:\n",
        "            self.current_term += 1\n",
        "            self.a, self.b = self.b, self.a + self.b\n",
        "            return self.b\n",
        "fib = Fibonacci(10)\n",
        "for num in fib:\n",
        "    print(num)"
      ],
      "metadata": {
        "colab": {
          "base_uri": "https://localhost:8080/"
        },
        "id": "0K8fU_SFIHlv",
        "outputId": "66e8598c-cb0e-4ba1-90db-f8d2722ee9ff"
      },
      "execution_count": null,
      "outputs": [
        {
          "output_type": "stream",
          "name": "stdout",
          "text": [
            "0\n",
            "1\n",
            "1\n",
            "2\n",
            "3\n",
            "5\n",
            "8\n",
            "13\n",
            "21\n",
            "34\n"
          ]
        }
      ]
    },
    {
      "cell_type": "code",
      "source": [
        "#Q6- Write a generator function in Python that yields the powers of 2 up to a given exponent."
      ],
      "metadata": {
        "id": "8k3T_vO9IKkE"
      },
      "execution_count": null,
      "outputs": []
    },
    {
      "cell_type": "code",
      "source": [
        "def powers_of_two(max_exponent):\n",
        "    for exponent in range(max_exponent + 1):\n",
        "        yield 2 ** exponent\n",
        "for power in powers_of_two(20):\n",
        "    print(power)"
      ],
      "metadata": {
        "colab": {
          "base_uri": "https://localhost:8080/"
        },
        "id": "mfF-edNMINrV",
        "outputId": "bd6c2ca8-dc62-4147-bd19-b5125e7d2bc5"
      },
      "execution_count": null,
      "outputs": [
        {
          "output_type": "stream",
          "name": "stdout",
          "text": [
            "1\n",
            "2\n",
            "4\n",
            "8\n",
            "16\n",
            "32\n",
            "64\n",
            "128\n",
            "256\n",
            "512\n",
            "1024\n",
            "2048\n",
            "4096\n",
            "8192\n",
            "16384\n",
            "32768\n",
            "65536\n",
            "131072\n",
            "262144\n",
            "524288\n",
            "1048576\n"
          ]
        }
      ]
    },
    {
      "cell_type": "code",
      "source": [
        "#Q7-Implement a generator function that reads a file line by line and yields each line as a string."
      ],
      "metadata": {
        "id": "4MuPuaObIP5s"
      },
      "execution_count": null,
      "outputs": []
    },
    {
      "cell_type": "code",
      "source": [
        "def process_log_file(log_file_path):\n",
        "    with open(log_file_path, 'r') as file:\n",
        "        for line in file:\n",
        "            yield line\n",
        "log_file_path = 'example.txt'\n",
        "log_generator = process_log_file(log_file_path)\n",
        "\n",
        "for log_entry in log_generator:\n",
        "    print(log_entry)"
      ],
      "metadata": {
        "id": "g2bLD9UoITKW"
      },
      "execution_count": null,
      "outputs": []
    },
    {
      "cell_type": "code",
      "source": [
        "#Q8-Use a lambda function in Python to sort a list of tuples based on the second element of each tuple."
      ],
      "metadata": {
        "id": "7_4DgaDBIYFe"
      },
      "execution_count": 30,
      "outputs": []
    },
    {
      "cell_type": "code",
      "source": [
        "list_of_tuples = [(1, 3), (4, 1), (2, 2), (5, 0)]\n",
        "\n",
        "sorted_list = sorted(list_of_tuples, key=lambda x: x[1])\n",
        "\n",
        "print(sorted_list)\n"
      ],
      "metadata": {
        "colab": {
          "base_uri": "https://localhost:8080/"
        },
        "id": "s0ACFOttJ9B0",
        "outputId": "823dd35e-7109-4bf2-9131-0c29d978ecec"
      },
      "execution_count": 31,
      "outputs": [
        {
          "output_type": "stream",
          "name": "stdout",
          "text": [
            "[(5, 0), (4, 1), (2, 2), (1, 3)]\n"
          ]
        }
      ]
    },
    {
      "cell_type": "code",
      "source": [
        "#Q9-Write a Python program that uses `map()` to convert a list of temperatures from Celsius to Fahrenheit."
      ],
      "metadata": {
        "id": "cNiZz6YGKliZ"
      },
      "execution_count": 29,
      "outputs": []
    },
    {
      "cell_type": "code",
      "source": [
        "def celsius_to_fahrenheit(celsius):\n",
        "    return (celsius * 9/5) + 32\n",
        "celsius_temps = [0, 10, 20, 30, 40]\n",
        "fahrenheit_temps = list(map(celsius_to_fahrenheit, celsius_temps))\n",
        "print(fahrenheit_temps)"
      ],
      "metadata": {
        "colab": {
          "base_uri": "https://localhost:8080/"
        },
        "id": "EPlTOpzSIasr",
        "outputId": "1f65d7b7-6e81-4bcb-d13c-c71c119cb41a"
      },
      "execution_count": 32,
      "outputs": [
        {
          "output_type": "stream",
          "name": "stdout",
          "text": [
            "[32.0, 50.0, 68.0, 86.0, 104.0]\n"
          ]
        }
      ]
    },
    {
      "cell_type": "code",
      "source": [
        "#Q10-Create a Python program that uses `filter()` to remove all the vowels from a given string."
      ],
      "metadata": {
        "id": "ulI4agpuIdLb"
      },
      "execution_count": null,
      "outputs": []
    },
    {
      "cell_type": "code",
      "source": [
        "def is_not_vowel(char):\n",
        "    return char.lower() not in 'aeiou'\n",
        "\n",
        "input_string = input(\"Enter the string\")\n",
        "\n",
        "filtered_string = ''.join(filter(is_not_vowel, input_string))\n",
        "\n",
        "print(filtered_string)"
      ],
      "metadata": {
        "colab": {
          "base_uri": "https://localhost:8080/"
        },
        "id": "Qeo35xqqIgiS",
        "outputId": "ac929663-d5fd-4dd8-9509-0f8a692f11e7"
      },
      "execution_count": null,
      "outputs": [
        {
          "output_type": "stream",
          "name": "stdout",
          "text": [
            "Enter the stringpwskills lab\n",
            "pwsklls lb\n"
          ]
        }
      ]
    },
    {
      "cell_type": "code",
      "source": [
        "#Q11:\n",
        "order=[[34587,4,40.95],[98762,5,56.80],[77226,3,32.95],[88112,3,24.99]]\n",
        "def calculate_total(order):\n",
        "    order_number, quantity, price_per_unit = order\n",
        "    total = quantity * price_per_unit\n",
        "    if total < 10000:\n",
        "        total += 10\n",
        "    return (order_number, total)\n",
        "result = list(map(lambda order: calculate_total(order), order))\n",
        "\n",
        "print(result)"
      ],
      "metadata": {
        "colab": {
          "base_uri": "https://localhost:8080/"
        },
        "id": "VhuH7bucIi2U",
        "outputId": "7a514d0b-a307-4eca-df13-1b4ec70a7585"
      },
      "execution_count": null,
      "outputs": [
        {
          "output_type": "stream",
          "name": "stdout",
          "text": [
            "[(34587, 173.8), (98762, 294.0), (77226, 108.85000000000001), (88112, 84.97)]\n"
          ]
        }
      ]
    },
    {
      "cell_type": "code",
      "source": [],
      "metadata": {
        "id": "RRjqn21VIpmG"
      },
      "execution_count": null,
      "outputs": []
    }
  ]
}