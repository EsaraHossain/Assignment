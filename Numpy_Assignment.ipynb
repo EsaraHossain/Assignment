{
  "nbformat": 4,
  "nbformat_minor": 0,
  "metadata": {
    "colab": {
      "provenance": [],
      "authorship_tag": "ABX9TyPW4csVp+zBDw7cJjpRjuPe",
      "include_colab_link": true
    },
    "kernelspec": {
      "name": "python3",
      "display_name": "Python 3"
    },
    "language_info": {
      "name": "python"
    }
  },
  "cells": [
    {
      "cell_type": "markdown",
      "metadata": {
        "id": "view-in-github",
        "colab_type": "text"
      },
      "source": [
        "<a href=\"https://colab.research.google.com/github/EsaraHossain/Assignment/blob/main/Numpy_Assignment.ipynb\" target=\"_parent\"><img src=\"https://colab.research.google.com/assets/colab-badge.svg\" alt=\"Open In Colab\"/></a>"
      ]
    },
    {
      "cell_type": "code",
      "execution_count": null,
      "metadata": {
        "id": "sgMBzkOoEuH6"
      },
      "outputs": [],
      "source": [
        "#Create a 3x3 NumPy array with random integers between 1 and 100. Then, interchange its rows and columns."
      ]
    },
    {
      "cell_type": "code",
      "source": [
        "import numpy as np\n",
        "array = np.random.randint(1, 101, size=(3, 3))\n",
        "print(\"Original array:\")\n",
        "print(array)\n",
        "transposed_array = np.transpose(array)\n",
        "print(\"\\nTransposed array:\")\n",
        "print(transposed_array)\n"
      ],
      "metadata": {
        "colab": {
          "base_uri": "https://localhost:8080/"
        },
        "id": "WwP75LBcHGc4",
        "outputId": "1f89a63f-e8ba-46b4-a3dc-c643f9878288"
      },
      "execution_count": null,
      "outputs": [
        {
          "output_type": "stream",
          "name": "stdout",
          "text": [
            "Original array:\n",
            "[[22 99 98]\n",
            " [80 90 53]\n",
            " [46 55 10]]\n",
            "\n",
            "Transposed array:\n",
            "[[22 80 46]\n",
            " [99 90 55]\n",
            " [98 53 10]]\n"
          ]
        }
      ]
    },
    {
      "cell_type": "code",
      "source": [
        "#Generate a 1D NumPy array with 10 elements. Reshape it into a 2x5 array, then into a 5x2 array."
      ],
      "metadata": {
        "id": "cWVpHxbcHSpR"
      },
      "execution_count": null,
      "outputs": []
    },
    {
      "cell_type": "code",
      "source": [
        "import numpy as np\n",
        "\n",
        "array_1d = np.arange(10)\n",
        "\n",
        "print(\"Original 1D array:\")\n",
        "print(array_1d)\n",
        "\n",
        "array_2x5 = array_1d.reshape((2, 5))\n",
        "\n",
        "print(\"\\nReshaped 2x5 array:\")\n",
        "print(array_2x5)\n",
        "\n",
        "array_5x2 = array_2x5.reshape((5, 2))\n",
        "\n",
        "print(\"\\nReshaped 5x2 array:\")\n",
        "print(array_5x2)\n"
      ],
      "metadata": {
        "colab": {
          "base_uri": "https://localhost:8080/"
        },
        "id": "dzL35rY1Hgyb",
        "outputId": "1c1bd997-14e9-49c4-b15a-18e1b1c4838c"
      },
      "execution_count": null,
      "outputs": [
        {
          "output_type": "stream",
          "name": "stdout",
          "text": [
            "Original 1D array:\n",
            "[0 1 2 3 4 5 6 7 8 9]\n",
            "\n",
            "Reshaped 2x5 array:\n",
            "[[0 1 2 3 4]\n",
            " [5 6 7 8 9]]\n",
            "\n",
            "Reshaped 5x2 array:\n",
            "[[0 1]\n",
            " [2 3]\n",
            " [4 5]\n",
            " [6 7]\n",
            " [8 9]]\n"
          ]
        }
      ]
    },
    {
      "cell_type": "code",
      "source": [
        "#Create a 4x4 NumPy array with random float values. Add a border of zeros around it, resulting in a 6x6 array."
      ],
      "metadata": {
        "id": "tR2voEuQHnRa"
      },
      "execution_count": null,
      "outputs": []
    },
    {
      "cell_type": "code",
      "source": [
        "array_4x4 = np.random.rand(4, 4)\n",
        "print(\"Original 4x4 array:\")\n",
        "print(array_4x4)\n",
        "array_6x6 = np.pad(array_4x4, pad_width=1, mode='constant', constant_values=0)\n",
        "print(\"\\n6x6 array with border of zeros:\")\n",
        "print(array_6x6)\n"
      ],
      "metadata": {
        "colab": {
          "base_uri": "https://localhost:8080/"
        },
        "id": "uBAkPRrxHxfi",
        "outputId": "a4d51c1a-b305-4fe4-d9d7-a449944e37f8"
      },
      "execution_count": null,
      "outputs": [
        {
          "output_type": "stream",
          "name": "stdout",
          "text": [
            "Original 4x4 array:\n",
            "[[0.67201547 0.87432887 0.32323732 0.58726595]\n",
            " [0.42942875 0.65917107 0.60128755 0.93099216]\n",
            " [0.8114343  0.77266741 0.05306558 0.73075396]\n",
            " [0.99665304 0.33085336 0.82345686 0.49075963]]\n",
            "\n",
            "6x6 array with border of zeros:\n",
            "[[0.         0.         0.         0.         0.         0.        ]\n",
            " [0.         0.67201547 0.87432887 0.32323732 0.58726595 0.        ]\n",
            " [0.         0.42942875 0.65917107 0.60128755 0.93099216 0.        ]\n",
            " [0.         0.8114343  0.77266741 0.05306558 0.73075396 0.        ]\n",
            " [0.         0.99665304 0.33085336 0.82345686 0.49075963 0.        ]\n",
            " [0.         0.         0.         0.         0.         0.        ]]\n"
          ]
        }
      ]
    },
    {
      "cell_type": "code",
      "source": [
        "# Using NumPy, create an array of integers from 10 to 60 with a step of 5.\n",
        "array = np.arange(10, 61, 5)\n",
        "print(array)"
      ],
      "metadata": {
        "colab": {
          "base_uri": "https://localhost:8080/"
        },
        "id": "rTAnAm2cH-Y6",
        "outputId": "ab21146f-ce24-4504-b40e-0769fec59a80"
      },
      "execution_count": null,
      "outputs": [
        {
          "output_type": "stream",
          "name": "stdout",
          "text": [
            "[10 15 20 25 30 35 40 45 50 55 60]\n"
          ]
        }
      ]
    },
    {
      "cell_type": "code",
      "source": [
        "#Create a NumPy array of strings ['python', 'numpy', 'pandas']. Apply different case transformations (uppercase, lowercase, title case, etc.) to each element."
      ],
      "metadata": {
        "id": "NpGdz3TgIRd0"
      },
      "execution_count": null,
      "outputs": []
    },
    {
      "cell_type": "code",
      "source": [
        "string_array = np.array(['python', 'numpy', 'pandas'])\n",
        "uppercase_array = np.char.upper(string_array)\n",
        "lowercase_array = np.char.lower(string_array)\n",
        "titlecase_array = np.char.title(string_array)\n",
        "capitalize_array = np.char.capitalize(string_array)\n",
        "\n",
        "print(\"Original array:\")\n",
        "print(string_array)\n",
        "\n",
        "print(\"\\nUppercase array:\")\n",
        "print(uppercase_array)\n",
        "\n",
        "print(\"\\nLowercase array:\")\n",
        "print(lowercase_array)\n",
        "\n",
        "print(\"\\nTitlecase array:\")\n",
        "print(titlecase_array)\n",
        "\n",
        "print(\"\\nCapitalized array:\")\n",
        "print(capitalize_array)\n"
      ],
      "metadata": {
        "colab": {
          "base_uri": "https://localhost:8080/"
        },
        "id": "wkuKug7qIoFc",
        "outputId": "b0f9dae7-52c3-4807-c706-f9f733f2501e"
      },
      "execution_count": null,
      "outputs": [
        {
          "output_type": "stream",
          "name": "stdout",
          "text": [
            "Original array:\n",
            "['python' 'numpy' 'pandas']\n",
            "\n",
            "Uppercase array:\n",
            "['PYTHON' 'NUMPY' 'PANDAS']\n",
            "\n",
            "Lowercase array:\n",
            "['python' 'numpy' 'pandas']\n",
            "\n",
            "Titlecase array:\n",
            "['Python' 'Numpy' 'Pandas']\n",
            "\n",
            "Capitalized array:\n",
            "['Python' 'Numpy' 'Pandas']\n"
          ]
        }
      ]
    },
    {
      "cell_type": "code",
      "source": [
        "# Generate a NumPy array of words. Insert a space between each character of every word in the array."
      ],
      "metadata": {
        "id": "yI0LIgYQI3hx"
      },
      "execution_count": null,
      "outputs": []
    },
    {
      "cell_type": "code",
      "source": [
        "\n",
        "words_array = np.array(['python', 'numpy', 'pandas'])\n",
        "spaced_words_array = np.char.join(' ', words_array)\n",
        "print(\"Original array:\")\n",
        "print(words_array)\n",
        "print(\"\\nArray with spaces between characters:\")\n",
        "print(spaced_words_array)\n"
      ],
      "metadata": {
        "colab": {
          "base_uri": "https://localhost:8080/"
        },
        "id": "1pgu8la8JBJI",
        "outputId": "6d5aed5e-ada9-4fc1-a4ee-e18b3ee2a013"
      },
      "execution_count": null,
      "outputs": [
        {
          "output_type": "stream",
          "name": "stdout",
          "text": [
            "Original array:\n",
            "['python' 'numpy' 'pandas']\n",
            "\n",
            "Array with spaces between characters:\n",
            "['p y t h o n' 'n u m p y' 'p a n d a s']\n"
          ]
        }
      ]
    },
    {
      "cell_type": "code",
      "source": [
        "# Create two 2D NumPy arrays and perform element-wise addition, subtraction, multiplication, and division."
      ],
      "metadata": {
        "id": "HcNBefBVJP7k"
      },
      "execution_count": null,
      "outputs": []
    },
    {
      "cell_type": "code",
      "source": [
        "array1 = np.array([[1, 2, 3], [4, 5, 6]])\n",
        "array2 = np.array([[7, 8, 9], [10, 11, 12]])\n",
        "addition_result = array1 + array2\n",
        "subtraction_result = array1 - array2\n",
        "multiplication_result = array1 * array2\n",
        "division_result = array1 / array2\n",
        "print(\"Array 1:\")\n",
        "print(array1)\n",
        "print(\"\\nArray 2:\")\n",
        "print(array2)\n",
        "print(\"\\nElement-wise addition:\")\n",
        "print(addition_result)\n",
        "print(\"\\nElement-wise subtraction:\")\n",
        "print(subtraction_result)\n",
        "print(\"\\nElement-wise multiplication:\")\n",
        "print(multiplication_result)\n",
        "print(\"\\nElement-wise division:\")\n",
        "print(division_result)\n"
      ],
      "metadata": {
        "colab": {
          "base_uri": "https://localhost:8080/"
        },
        "id": "BTohGsdsJkwx",
        "outputId": "5671edc8-532a-4a52-ed31-0c29dc9fb3b5"
      },
      "execution_count": null,
      "outputs": [
        {
          "output_type": "stream",
          "name": "stdout",
          "text": [
            "Array 1:\n",
            "[[1 2 3]\n",
            " [4 5 6]]\n",
            "\n",
            "Array 2:\n",
            "[[ 7  8  9]\n",
            " [10 11 12]]\n",
            "\n",
            "Element-wise addition:\n",
            "[[ 8 10 12]\n",
            " [14 16 18]]\n",
            "\n",
            "Element-wise subtraction:\n",
            "[[-6 -6 -6]\n",
            " [-6 -6 -6]]\n",
            "\n",
            "Element-wise multiplication:\n",
            "[[ 7 16 27]\n",
            " [40 55 72]]\n",
            "\n",
            "Element-wise division:\n",
            "[[0.14285714 0.25       0.33333333]\n",
            " [0.4        0.45454545 0.5       ]]\n"
          ]
        }
      ]
    },
    {
      "cell_type": "code",
      "source": [
        "#Use NumPy to create a 5x5 identity matrix, then extract its diagonal elements."
      ],
      "metadata": {
        "id": "jw4Jf3mcJx1o"
      },
      "execution_count": null,
      "outputs": []
    },
    {
      "cell_type": "code",
      "source": [
        "identity_matrix = np.eye(5)\n",
        "print(\"5x5 Identity Matrix:\")\n",
        "print(identity_matrix)\n",
        "diagonal_elements = np.diag(identity_matrix)\n",
        "print(\"\\nDiagonal Elements:\")\n",
        "print(diagonal_elements)\n"
      ],
      "metadata": {
        "colab": {
          "base_uri": "https://localhost:8080/"
        },
        "id": "F0bXnEBtKBoY",
        "outputId": "5e2b775b-b497-42f9-c91c-e5dce2c70a8b"
      },
      "execution_count": null,
      "outputs": [
        {
          "output_type": "stream",
          "name": "stdout",
          "text": [
            "5x5 Identity Matrix:\n",
            "[[1. 0. 0. 0. 0.]\n",
            " [0. 1. 0. 0. 0.]\n",
            " [0. 0. 1. 0. 0.]\n",
            " [0. 0. 0. 1. 0.]\n",
            " [0. 0. 0. 0. 1.]]\n",
            "\n",
            "Diagonal Elements:\n",
            "[1. 1. 1. 1. 1.]\n"
          ]
        }
      ]
    },
    {
      "cell_type": "code",
      "source": [
        "# Generate a NumPy array of 100 random integers between 0 and 1000. Find and display all prime numbers in this array."
      ],
      "metadata": {
        "id": "nHub778uKHwK"
      },
      "execution_count": null,
      "outputs": []
    },
    {
      "cell_type": "code",
      "source": [
        "import numpy as np\n",
        "def is_prime(n):\n",
        "    if n <= 1:\n",
        "        return False\n",
        "    if n <= 3:\n",
        "        return True\n",
        "    if n % 2 == 0 or n % 3 == 0:\n",
        "        return False\n",
        "    i = 5\n",
        "    while i * i <= n:\n",
        "        if n % i == 0 or n % (i + 2) == 0:\n",
        "            return False\n",
        "        i += 6\n",
        "    return True\n",
        "array = np.random.randint(0, 1001, size=100)\n",
        "prime_numbers = np.array([num for num in array if is_prime(num)])\n",
        "print(\"Array of random integers:\")\n",
        "print(array)\n",
        "print(\"\\nPrime numbers in the array:\")\n",
        "print(prime_numbers)\n"
      ],
      "metadata": {
        "colab": {
          "base_uri": "https://localhost:8080/"
        },
        "id": "n0TkkaF8KfQX",
        "outputId": "dbeca4bc-132a-449c-d586-f5e3682411b2"
      },
      "execution_count": null,
      "outputs": [
        {
          "output_type": "stream",
          "name": "stdout",
          "text": [
            "Array of random integers:\n",
            "[874 358 434 385 909  55 758 764 365 393 403 127 720 944  47 652  55  89\n",
            " 970 752 171  86  47 501 134 522 972 791  60  87 873   8 705 513 420 950\n",
            " 116 172 414 292 999  87 243 215 404 857 734 287 846 471 358 427 992 532\n",
            " 379 593 424 587 520 353 435 908 253 292 206 867 385 368 541 418 827 741\n",
            " 889 843 966 288 885 253 590 710 557 309  10 400  33 734 990 354  40 524\n",
            " 588  31 764 700 289 436 194 818 665 941]\n",
            "\n",
            "Prime numbers in the array:\n",
            "[127  47  89  47 857 379 593 587 353 541 827 557  31 941]\n"
          ]
        }
      ]
    },
    {
      "cell_type": "code",
      "source": [
        "#Create a NumPy array representing daily temperatures for a month. Calculate and display the weekly averages."
      ],
      "metadata": {
        "id": "W8fVpguVKm4Q"
      },
      "execution_count": null,
      "outputs": []
    },
    {
      "cell_type": "code",
      "source": [
        "import numpy as np\n",
        "\n",
        "daily_temperatures = np.random.uniform(low=0, high=35, size=30)\n",
        "weekly_averages = np.mean(daily_temperatures.reshape(3, 10), axis=1)\n",
        "print(\"Daily temperatures for the month:\")\n",
        "print(daily_temperatures)\n",
        "\n",
        "print(\"\\nWeekly averages:\")\n",
        "print(weekly_averages)\n"
      ],
      "metadata": {
        "colab": {
          "base_uri": "https://localhost:8080/"
        },
        "id": "wjCbHZSkK3TB",
        "outputId": "f670a151-9f68-4f59-86a2-a944b6251a98"
      },
      "execution_count": null,
      "outputs": [
        {
          "output_type": "stream",
          "name": "stdout",
          "text": [
            "Daily temperatures for the month:\n",
            "[ 5.56393543  3.86312994 22.97153563  4.8364033   6.88038266 12.90538097\n",
            " 28.73476304  3.39854465 29.32807176  3.36344428 34.17608128 16.40279206\n",
            " 34.18663809 21.16959319 25.87422528  1.37157273  9.89824369  4.20687964\n",
            " 10.36490691  4.15547016 11.12941128 14.49920481  2.24516237 24.23652418\n",
            " 19.8310509   9.28863218 18.31368187  3.28791788 20.15812734 32.52536692]\n",
            "\n",
            "Weekly averages:\n",
            "[12.18455917 16.1806403  15.55150797]\n"
          ]
        }
      ]
    },
    {
      "cell_type": "code",
      "source": [],
      "metadata": {
        "id": "0Tq19GY4LPQx"
      },
      "execution_count": null,
      "outputs": []
    }
  ]
}